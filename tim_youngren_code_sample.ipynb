{
 "cells": [
  {
   "cell_type": "code",
   "execution_count": 1,
   "metadata": {},
   "outputs": [],
   "source": [
    "import sqlite3\n",
    "import csv\n",
    "import pandas as pd\n",
    "import numpy as np\n",
    "\n",
    "import timeit"
   ]
  },
  {
   "cell_type": "markdown",
   "metadata": {},
   "source": [
    "## Data load\n",
    "### Pandas"
   ]
  },
  {
   "cell_type": "code",
   "execution_count": 3,
   "metadata": {},
   "outputs": [],
   "source": [
    "csv_file = 'parking_citations.corrupted.csv'\n",
    "# csv_file = 'shrunk_parking.csv'"
   ]
  },
  {
   "cell_type": "code",
   "execution_count": 5,
   "metadata": {},
   "outputs": [
    {
     "name": "stdout",
     "output_type": "stream",
     "text": [
      "50.69512118\n",
      "(8726014, 19)\n",
      "(4357544, 19)\n",
      "       tkt_num               tkt_dt  tkt_time meter_id  marked_time state  \\\n",
      "4   1105461453  2015-09-15T00:00:00     115.0      NaN          NaN    CA   \n",
      "6   1106500452  2015-12-17T00:00:00    1710.0      NaN          NaN    CA   \n",
      "10  1106506424  2015-12-22T00:00:00    1100.0      NaN          NaN    CA   \n",
      "11  1106506435  2015-12-22T00:00:00    1105.0      NaN          NaN    CA   \n",
      "14  1107179581  2015-12-27T00:00:00    1055.0      NaN          NaN    CA   \n",
      "\n",
      "    plate_expr_dt  vin  make body_style color              location  route  \\\n",
      "4        200316.0  NaN  CHEV         PA    BK    GEORGIA ST/OLYMPIC  1FB70   \n",
      "6        201605.0  NaN  MAZD         PA    BL       SUNSET/ALVARADO  00217   \n",
      "10       201511.0  NaN  FORD         TR    WH       1159 HUNTLEY DR   2A75   \n",
      "11       201701.0  NaN  CHRY         PA    GO       1159 HUNTLEY DR   2A75   \n",
      "14       201605.0  NaN  TOYO         PA    BK  3100 N HOLLYRIDGE DR    NaN   \n",
      "\n",
      "    agency viol_code             viol_desc  fine_amt  latitude  longitude  \n",
      "4      1.0     8069A  NO STOPPING/STANDING      93.0   99999.0    99999.0  \n",
      "6      1.0      8070  PARK IN GRID LOCK ZN     163.0   99999.0    99999.0  \n",
      "10     1.0    8069AA      NO STOP/STAND AM      93.0   99999.0    99999.0  \n",
      "11     1.0    8069AA      NO STOP/STAND AM      93.0   99999.0    99999.0  \n",
      "14    54.0     8058L          PREF PARKING      68.0   99999.0    99999.0  \n"
     ]
    }
   ],
   "source": [
    "pd_load_setup = \"import pandas as pd\"\n",
    "\n",
    "pd_load_stmt = \"tkt_data = pd.read_csv('\" + csv_file + \"', header=0, \\\n",
    "names=['tkt_num', 'tkt_dt', 'tkt_time', 'meter_id', 'marked_time', \\\n",
    "'state', 'plate_expr_dt', 'vin', 'make', 'body_style', \\\n",
    "'color', 'location','route', 'agency', 'viol_code', \\\n",
    "'viol_desc', 'fine_amt', 'latitude', 'longitude'], \\\n",
    "dtype={'tkt_num': object, 'vin': object})\"\n",
    "\n",
    "pd_load_time = timeit.timeit(pd_load_stmt, pd_load_setup, number=1)\n",
    "print(pd_load_time)\n",
    "\n",
    "exec(pd_load_stmt)\n",
    "print(tkt_data.shape)\n",
    "# The instructions say, \"Do this analysis on the uncorrupted component of the data only.\"\n",
    "tkt_data = tkt_data[tkt_data['make'].notnull()]\n",
    "print(tkt_data.shape)\n",
    "print(tkt_data.head())"
   ]
  },
  {
   "cell_type": "markdown",
   "metadata": {},
   "source": [
    "### SQLite"
   ]
  },
  {
   "cell_type": "code",
   "execution_count": 6,
   "metadata": {},
   "outputs": [
    {
     "name": "stdout",
     "output_type": "stream",
     "text": [
      "81.76237056699998\n"
     ]
    }
   ],
   "source": [
    "sqlite_insert_setup = \"\"\"\n",
    "import csv, sqlite3\n",
    "\n",
    "csv_file = 'parking_citations.corrupted.csv'\n",
    "# csv_file = 'shrunk_parking.csv'\n",
    "\n",
    "conn = sqlite3.connect(\"tkt_db.db\")\n",
    "c = conn.cursor()\n",
    "c.execute('DROP TABLE IF EXISTS tkt_data')\n",
    "conn.commit()\n",
    "c.execute('CREATE TABLE IF NOT EXISTS tkt_data \\\n",
    "(tkt_num text, \\\n",
    "tkt_dt text, \\\n",
    "tkt_time real, \\\n",
    "meter_id text, \\\n",
    "marked_time text, \\\n",
    "state text, \\\n",
    "plate_expr_dt real, \\\n",
    "vin text, \\\n",
    "make text, \\\n",
    "body_style text, \\\n",
    "color text, \\\n",
    "location text, \\\n",
    "route text, \\\n",
    "agency text, \\\n",
    "viol_code text, \\\n",
    "viol_desc text, \\\n",
    "fine_amt real, \\\n",
    "latitude real, \\\n",
    "longitude real)')\n",
    "conn.commit()\n",
    "\"\"\"\n",
    "\n",
    "sqlite_insert_stmt = \"\"\"\n",
    "with open(csv_file, 'r') as csvfile: \n",
    "    row = csv.reader(csvfile) \n",
    "    next(row) # skip header row\n",
    "    c.executemany('INSERT INTO tkt_data VALUES (?, ?, ?, ?, ?, ?, ?, ?, ?, ?, ?, ?, ?, ?, ?, ?, ?, ?, ?);', row)\n",
    "conn.commit()\n",
    "\"\"\"\n",
    "\n",
    "sqlite_insert_time = timeit.timeit(sqlite_insert_stmt, sqlite_insert_setup, number=1)\n",
    "print(sqlite_insert_time)"
   ]
  },
  {
   "cell_type": "markdown",
   "metadata": {},
   "source": [
    "#### For both ease of coding and load time, Pandas is the clear winner for loading data.\n",
    "#### Pandas took one line of code, while SQLite required several.\n",
    "#### Locally, for me, Pandas loads this dataset 30 - 50 seconds faster than SQLite."
   ]
  },
  {
   "cell_type": "code",
   "execution_count": 7,
   "metadata": {},
   "outputs": [
    {
     "name": "stdout",
     "output_type": "stream",
     "text": [
      "(8726014,)\n",
      "(4357544,)\n",
      "('1105461453', '2015-09-15T00:00:00', 115.0, '', '', 'CA', 200316.0, '', 'CHEV', 'PA', 'BK', 'GEORGIA ST/OLYMPIC', '1FB70', '1.0', '8069A', 'NO STOPPING/STANDING', 93.0, 99999.0, 99999.0)\n"
     ]
    }
   ],
   "source": [
    "conn = sqlite3.connect(\"tkt_db.db\")\n",
    "c = conn.cursor()\n",
    "c.execute(\"SELECT count(*) FROM tkt_data\")\n",
    "print(c.fetchone())\n",
    "# The instructions say, \"Do this analysis on the uncorrupted component of the data only.\"\n",
    "c.execute('DELETE FROM tkt_data WHERE make = \"\"')\n",
    "conn.commit()\n",
    "c.execute(\"SELECT count(*) FROM tkt_data\")\n",
    "print(c.fetchone())\n",
    "c.execute(\"SELECT * FROM tkt_data\")\n",
    "print(c.fetchone())"
   ]
  },
  {
   "cell_type": "markdown",
   "metadata": {},
   "source": [
    "## a) calculate top 25 most common 'makes'\n",
    "### Pandas"
   ]
  },
  {
   "cell_type": "code",
   "execution_count": 8,
   "metadata": {
    "scrolled": true
   },
   "outputs": [
    {
     "name": "stdout",
     "output_type": "stream",
     "text": [
      "1.222612220999963\n",
      "make\n",
      "TOYT    721411\n",
      "HOND    491961\n",
      "FORD    382695\n",
      "NISS    311324\n",
      "CHEV    297076\n",
      "dtype: int64\n"
     ]
    }
   ],
   "source": [
    "pd_a_setup = \"\"\"import pandas as pd\n",
    "\"\"\" + pd_load_stmt\n",
    "\n",
    "pd_a_stmt = \"pd_a = tkt_data.groupby(['make']).size().sort_values(ascending=False)\"\n",
    "\n",
    "pd_a_time = timeit.timeit(pd_a_stmt, pd_a_setup, number=1)\n",
    "print(pd_a_time)\n",
    "\n",
    "exec(pd_a_stmt)\n",
    "print(pd_a.head(5))"
   ]
  },
  {
   "cell_type": "markdown",
   "metadata": {},
   "source": [
    "#### Consistency in abbreviation is a problem with the Make data. Within the top 25 above, \"TOYT\" and \"TOYO\" almost certainly both are intended to represent Toyota. This is just an example of a broad issue.\n",
    "#### To attempt to minimize this issue, Edit Distance is used to match the most common entries with less common entries to combine their totals. This creates its own problems and questions though.\n",
    "####  \n",
    "#### TOYT == TOYO ?     Yes, both are Toyota.\n",
    "#### VOLV == VOLK ?      No, Volvo and Volkswagen.\n",
    "#### MERZ == MERC ?    Maybe. MERZ is probably Mercedes Benz. MERC could also mean a Benz, or maybe a Mercury."
   ]
  },
  {
   "cell_type": "code",
   "execution_count": 9,
   "metadata": {
    "scrolled": true
   },
   "outputs": [
    {
     "name": "stdout",
     "output_type": "stream",
     "text": [
      "TOYO\n"
     ]
    },
    {
     "name": "stderr",
     "output_type": "stream",
     "text": [
      "/Users/user/anaconda3/lib/python3.7/site-packages/pandas/core/indexing.py:190: SettingWithCopyWarning: \n",
      "A value is trying to be set on a copy of a slice from a DataFrame\n",
      "\n",
      "See the caveats in the documentation: http://pandas.pydata.org/pandas-docs/stable/indexing.html#indexing-view-versus-copy\n",
      "  self._setitem_with_indexer(indexer, value)\n"
     ]
    }
   ],
   "source": [
    "# use edit distance to improve Make consistency\n",
    "\n",
    "import nltk\n",
    " \n",
    "makes = pd_a.to_frame()\n",
    "makes.reset_index(inplace=True)\n",
    "makes.rename(columns={makes.columns[1]:'count'}, inplace=True)\n",
    "makes_dict = makes.to_dict()\n",
    "\n",
    "len(makes)\n",
    "print(makes.iloc[22,0])\n",
    "\n",
    "makes['rplc_make'] = makes['make']\n",
    "for i in range(len(makes.head(100))):\n",
    "    for j in range(len(makes)):\n",
    "        if (makes.iloc[i,1] >= makes.iloc[j,1] \n",
    "           and nltk.edit_distance(makes.iloc[i,0],makes.iloc[j,0]) == 1\n",
    "           and makes['make'].iloc[j] not in ['VOLV', 'MERC', 'BENZ']\n",
    "           ): # and makes.iloc[j,1]>99):\n",
    "#             print(makes.iloc[i,0] +':'+ str(makes.iloc[i,1]) +', ' \\\n",
    "#                   + makes.iloc[j,0] +':'+ str(makes.iloc[j,1]) +', ' \\\n",
    "#                   + str(nltk.edit_distance(makes.iloc[i,0],makes.iloc[j,0])) + ', ' + str(i))\n",
    "            makes['rplc_make'].iloc[j] = makes.iloc[i,0]\n",
    "            break\n"
   ]
  },
  {
   "cell_type": "code",
   "execution_count": 11,
   "metadata": {},
   "outputs": [
    {
     "data": {
      "text/html": [
       "<div>\n",
       "<style scoped>\n",
       "    .dataframe tbody tr th:only-of-type {\n",
       "        vertical-align: middle;\n",
       "    }\n",
       "\n",
       "    .dataframe tbody tr th {\n",
       "        vertical-align: top;\n",
       "    }\n",
       "\n",
       "    .dataframe thead th {\n",
       "        text-align: right;\n",
       "    }\n",
       "</style>\n",
       "<table border=\"1\" class=\"dataframe\">\n",
       "  <thead>\n",
       "    <tr style=\"text-align: right;\">\n",
       "      <th></th>\n",
       "      <th>make</th>\n",
       "      <th>count</th>\n",
       "      <th>rplc_make</th>\n",
       "    </tr>\n",
       "  </thead>\n",
       "  <tbody>\n",
       "    <tr>\n",
       "      <th>22</th>\n",
       "      <td>TOYO</td>\n",
       "      <td>40064</td>\n",
       "      <td>TOYT</td>\n",
       "    </tr>\n",
       "    <tr>\n",
       "      <th>45</th>\n",
       "      <td>LEXU</td>\n",
       "      <td>5098</td>\n",
       "      <td>LEXS</td>\n",
       "    </tr>\n",
       "    <tr>\n",
       "      <th>60</th>\n",
       "      <td>MINI</td>\n",
       "      <td>1170</td>\n",
       "      <td>MNNI</td>\n",
       "    </tr>\n",
       "    <tr>\n",
       "      <th>64</th>\n",
       "      <td>CHEC</td>\n",
       "      <td>871</td>\n",
       "      <td>CHEV</td>\n",
       "    </tr>\n",
       "    <tr>\n",
       "      <th>73</th>\n",
       "      <td>LEX</td>\n",
       "      <td>429</td>\n",
       "      <td>LEXU</td>\n",
       "    </tr>\n",
       "    <tr>\n",
       "      <th>74</th>\n",
       "      <td>SUZU</td>\n",
       "      <td>381</td>\n",
       "      <td>SUZI</td>\n",
       "    </tr>\n",
       "    <tr>\n",
       "      <th>75</th>\n",
       "      <td>ISUZ</td>\n",
       "      <td>376</td>\n",
       "      <td>ISU</td>\n",
       "    </tr>\n",
       "    <tr>\n",
       "      <th>76</th>\n",
       "      <td>JAGR</td>\n",
       "      <td>367</td>\n",
       "      <td>JAGU</td>\n",
       "    </tr>\n",
       "    <tr>\n",
       "      <th>77</th>\n",
       "      <td>SAAB</td>\n",
       "      <td>347</td>\n",
       "      <td>SAA</td>\n",
       "    </tr>\n",
       "    <tr>\n",
       "      <th>79</th>\n",
       "      <td>LROV</td>\n",
       "      <td>326</td>\n",
       "      <td>RROV</td>\n",
       "    </tr>\n",
       "    <tr>\n",
       "      <th>82</th>\n",
       "      <td>MERK</td>\n",
       "      <td>232</td>\n",
       "      <td>MERC</td>\n",
       "    </tr>\n",
       "    <tr>\n",
       "      <th>83</th>\n",
       "      <td>VW</td>\n",
       "      <td>217</td>\n",
       "      <td>KW</td>\n",
       "    </tr>\n",
       "    <tr>\n",
       "      <th>85</th>\n",
       "      <td>MAZ</td>\n",
       "      <td>181</td>\n",
       "      <td>MAZD</td>\n",
       "    </tr>\n",
       "    <tr>\n",
       "      <th>92</th>\n",
       "      <td>INF</td>\n",
       "      <td>137</td>\n",
       "      <td>IND</td>\n",
       "    </tr>\n",
       "    <tr>\n",
       "      <th>94</th>\n",
       "      <td>HYND</td>\n",
       "      <td>103</td>\n",
       "      <td>HOND</td>\n",
       "    </tr>\n",
       "    <tr>\n",
       "      <th>98</th>\n",
       "      <td>JAG</td>\n",
       "      <td>92</td>\n",
       "      <td>JAGR</td>\n",
       "    </tr>\n",
       "    <tr>\n",
       "      <th>99</th>\n",
       "      <td>MBZ</td>\n",
       "      <td>91</td>\n",
       "      <td>MAZ</td>\n",
       "    </tr>\n",
       "    <tr>\n",
       "      <th>100</th>\n",
       "      <td>MITZ</td>\n",
       "      <td>84</td>\n",
       "      <td>MITS</td>\n",
       "    </tr>\n",
       "    <tr>\n",
       "      <th>103</th>\n",
       "      <td>HINO</td>\n",
       "      <td>78</td>\n",
       "      <td>HNO</td>\n",
       "    </tr>\n",
       "    <tr>\n",
       "      <th>104</th>\n",
       "      <td>KAWA</td>\n",
       "      <td>78</td>\n",
       "      <td>KAWK</td>\n",
       "    </tr>\n",
       "  </tbody>\n",
       "</table>\n",
       "</div>"
      ],
      "text/plain": [
       "     make  count rplc_make\n",
       "22   TOYO  40064      TOYT\n",
       "45   LEXU   5098      LEXS\n",
       "60   MINI   1170      MNNI\n",
       "64   CHEC    871      CHEV\n",
       "73    LEX    429      LEXU\n",
       "74   SUZU    381      SUZI\n",
       "75   ISUZ    376       ISU\n",
       "76   JAGR    367      JAGU\n",
       "77   SAAB    347       SAA\n",
       "79   LROV    326      RROV\n",
       "82   MERK    232      MERC\n",
       "83     VW    217        KW\n",
       "85    MAZ    181      MAZD\n",
       "92    INF    137       IND\n",
       "94   HYND    103      HOND\n",
       "98    JAG     92      JAGR\n",
       "99    MBZ     91       MAZ\n",
       "100  MITZ     84      MITS\n",
       "103  HINO     78       HNO\n",
       "104  KAWA     78      KAWK"
      ]
     },
     "execution_count": 11,
     "metadata": {},
     "output_type": "execute_result"
    }
   ],
   "source": [
    "(makes[makes['make'] != makes['rplc_make']]).head(20)"
   ]
  },
  {
   "cell_type": "markdown",
   "metadata": {},
   "source": [
    "#### This is getting too bespoke and not really helping. With more time, an improved strategy could be implemented."
   ]
  },
  {
   "cell_type": "markdown",
   "metadata": {},
   "source": [
    "### SQLite"
   ]
  },
  {
   "cell_type": "code",
   "execution_count": 12,
   "metadata": {},
   "outputs": [
    {
     "name": "stdout",
     "output_type": "stream",
     "text": [
      "45.49994978899997\n",
      "[(721411, 'TOYT'), (491961, 'HOND'), (382695, 'FORD'), (311324, 'NISS'), (297076, 'CHEV'), (199221, 'BMW'), (177307, 'MERZ'), (149501, 'VOLK'), (133864, 'HYUN'), (127764, 'DODG'), (124508, 'LEXS'), (101746, 'KIA'), (100909, 'JEEP'), (84229, 'AUDI'), (79853, 'MAZD'), (72411, 'OTHR'), (62391, 'GMC'), (57317, 'CHRY'), (56809, 'INFI'), (52703, 'ACUR'), (46898, 'SUBA'), (42330, 'VOLV'), (40064, 'TOYO'), (37842, 'MITS'), (34080, 'CADI')]\n"
     ]
    }
   ],
   "source": [
    "a_query_setup = \"\"\"\n",
    "import sqlite3\n",
    "con = sqlite3.connect('tkt_db.db')\n",
    "c = con.cursor()\n",
    "\"\"\"\n",
    "\n",
    "a_query_stmt = \"\"\"c.execute('SELECT count(*), make \\\n",
    "FROM tkt_data \\\n",
    "WHERE make != \"\" \\\n",
    "GROUP BY make \\\n",
    "ORDER BY count(*) DESC')\"\"\"\n",
    "\n",
    "in_num = 1\n",
    "a_time = timeit.timeit(a_query_stmt, a_query_setup, number=in_num)\n",
    "print(a_time)\n",
    "\n",
    "exec(a_query_stmt)\n",
    "print(c.fetchmany(25))"
   ]
  },
  {
   "cell_type": "markdown",
   "metadata": {},
   "source": [
    "#### Pandas wins again: faster with similar code quantity."
   ]
  },
  {
   "cell_type": "markdown",
   "metadata": {},
   "source": [
    "## b) calculate most common 'Color' for each 'Make'\n",
    "### Pandas"
   ]
  },
  {
   "cell_type": "code",
   "execution_count": 13,
   "metadata": {},
   "outputs": [
    {
     "name": "stdout",
     "output_type": "stream",
     "text": [
      "1.9046794160000218\n",
      "      make color   count\n",
      "4667  TOYT    GY  163238\n",
      "1635  HOND    GY  116566\n",
      "1255  FORD    WT  112313\n",
      "648   CHEV    WT   78792\n",
      "3312  NISS    GY   72622\n"
     ]
    }
   ],
   "source": [
    "pd_b_stmt = \"\"\"b_df = tkt_data.groupby(['make','color']).size().to_frame().reset_index()\n",
    "b_df.rename(columns={b_df.columns[2]:'count'}, inplace=True)\n",
    "b_max = b_df[b_df.groupby(['make'])['count'].transform(max) == b_df['count']].sort_values('count', ascending=False)\"\"\"\n",
    "\n",
    "b_time = timeit.timeit(pd_b_stmt, pd_a_setup, number=1)\n",
    "print(b_time)\n",
    "\n",
    "exec(pd_b_stmt)\n",
    "print(b_max.head())"
   ]
  },
  {
   "cell_type": "code",
   "execution_count": 14,
   "metadata": {},
   "outputs": [
    {
     "name": "stdout",
     "output_type": "stream",
     "text": [
      "41.10396065300006\n",
      "[('TOYT', 'GY', 163238), ('HOND', 'GY', 116566), ('FORD', 'WT', 112313), ('CHEV', 'WT', 78792), ('NISS', 'GY', 72622)]\n"
     ]
    }
   ],
   "source": [
    "b_query_stmt = \"\"\"c.execute(' \\\n",
    "    SELECT make, color, ct \\\n",
    "    FROM \\\n",
    "      (SELECT make, color, count(*) as ct \\\n",
    "       FROM tkt_data \\\n",
    "       WHERE make != \"\" \\\n",
    "       GROUP BY make, color) \\\n",
    "    GROUP BY make \\\n",
    "    HAVING ct=max(ct) \\\n",
    "    ORDER BY ct DESC')\"\"\"\n",
    "\n",
    "b_query_time = timeit.timeit(b_query_stmt, a_query_setup, number=1)\n",
    "print(b_query_time)\n",
    "\n",
    "exec(b_query_stmt)\n",
    "print(c.fetchmany(5))"
   ]
  },
  {
   "cell_type": "markdown",
   "metadata": {},
   "source": [
    "#### Pandas is definitely faster, but the SQL code for this seems more straight forward. Call it a split decision that leans towards Pandas."
   ]
  },
  {
   "cell_type": "markdown",
   "metadata": {},
   "source": [
    "## c) find the first ticket issued for each 'Make'\n",
    "### Pandas"
   ]
  },
  {
   "cell_type": "code",
   "execution_count": 15,
   "metadata": {},
   "outputs": [
    {
     "name": "stdout",
     "output_type": "stream",
     "text": [
      "7.222566290000032\n",
      "                   tkt_dt     tkt_num\n",
      "make                                 \n",
      "FORD  2010-01-09T00:00:00  1001096471\n",
      "ACUR  2010-06-09T00:00:00  1036519013\n",
      "KIA   2010-06-10T00:00:00  1003412955\n",
      "CHEV  2010-06-25T00:00:00  1001096331\n",
      "JEEP  2010-10-05T00:00:00  1018619932\n"
     ]
    }
   ],
   "source": [
    "pd_c_stmt = \"c_df = tkt_data.groupby(['make'])['tkt_dt','tkt_num'].min(by='tkt_dt').sort_values('tkt_dt')\"\n",
    "\n",
    "pd_c_time = timeit.timeit(pd_c_stmt, pd_a_setup, number=1)\n",
    "print(pd_c_time)\n",
    "\n",
    "exec(pd_c_stmt)\n",
    "print(c_df.head(5))"
   ]
  },
  {
   "cell_type": "markdown",
   "metadata": {},
   "source": [
    "### SQLite"
   ]
  },
  {
   "cell_type": "code",
   "execution_count": 17,
   "metadata": {},
   "outputs": [
    {
     "name": "stdout",
     "output_type": "stream",
     "text": [
      "5.437045543999943\n",
      "[('2010-01-09T00:00:00', 'FORD', '1108852275'), ('2010-06-09T00:00:00', 'ACUR', '1112627854')]\n"
     ]
    }
   ],
   "source": [
    "c_query_stmt = \"\"\"c.execute(\" \\\n",
    "SELECT min(tkt_dt) as min_tkt_dt, make, tkt_num \\\n",
    "FROM tkt_data \\\n",
    "WHERE make != '' \\\n",
    "GROUP BY make \\\n",
    "ORDER BY min_tkt_dt\")\"\"\"\n",
    "\n",
    "c_query_time = timeit.timeit(c_query_stmt, a_query_setup, number=1)\n",
    "print(c_query_time)\n",
    "\n",
    "exec(c_query_stmt)\n",
    "print(c.fetchmany(2))"
   ]
  },
  {
   "cell_type": "markdown",
   "metadata": {},
   "source": [
    "#### Another tough call as far as code, but again, Pandas is faster. Pandas wins."
   ]
  },
  {
   "cell_type": "markdown",
   "metadata": {},
   "source": [
    "### Is an out-of-state license plate more likely to be expired at the time of receiving a ticket than an in-state license plate?"
   ]
  },
  {
   "cell_type": "code",
   "execution_count": 84,
   "metadata": {},
   "outputs": [
    {
     "data": {
      "text/plain": [
       "state\n",
       "CA    4058883\n",
       "AZ      38914\n",
       "TX      27415\n",
       "NV      26067\n",
       "FL      19105\n",
       "dtype: int64"
      ]
     },
     "execution_count": 84,
     "metadata": {},
     "output_type": "execute_result"
    }
   ],
   "source": [
    "tkt_data.groupby(['state']).size().sort_values(ascending=False).head()"
   ]
  },
  {
   "cell_type": "code",
   "execution_count": 86,
   "metadata": {},
   "outputs": [
    {
     "data": {
      "text/plain": [
       "1823264            707 LUCILE AVE\n",
       "1823269    APPX 2742 GLENN AVENUE\n",
       "Name: location, dtype: object"
      ]
     },
     "execution_count": 86,
     "metadata": {},
     "output_type": "execute_result"
    }
   ],
   "source": [
    "tkt_data.location[910800:910802]"
   ]
  },
  {
   "cell_type": "markdown",
   "metadata": {},
   "source": [
    "#### There are more than 100x as many instances of California plates than any other single state. Every Location I've looked up is in Los Angeles. Therefore, I am assuming all of the tickets in the dataset were given in California. So any non-\"CA\" plate is out-of-state."
   ]
  },
  {
   "cell_type": "code",
   "execution_count": 87,
   "metadata": {},
   "outputs": [
    {
     "data": {
      "text/html": [
       "<div>\n",
       "<style scoped>\n",
       "    .dataframe tbody tr th:only-of-type {\n",
       "        vertical-align: middle;\n",
       "    }\n",
       "\n",
       "    .dataframe tbody tr th {\n",
       "        vertical-align: top;\n",
       "    }\n",
       "\n",
       "    .dataframe thead th {\n",
       "        text-align: right;\n",
       "    }\n",
       "</style>\n",
       "<table border=\"1\" class=\"dataframe\">\n",
       "  <thead>\n",
       "    <tr style=\"text-align: right;\">\n",
       "      <th></th>\n",
       "      <th>tkt_dt</th>\n",
       "      <th>state</th>\n",
       "      <th>plate_expr_dt</th>\n",
       "    </tr>\n",
       "  </thead>\n",
       "  <tbody>\n",
       "    <tr>\n",
       "      <th>4</th>\n",
       "      <td>2015-09-15T00:00:00</td>\n",
       "      <td>CA</td>\n",
       "      <td>200316.0</td>\n",
       "    </tr>\n",
       "    <tr>\n",
       "      <th>6</th>\n",
       "      <td>2015-12-17T00:00:00</td>\n",
       "      <td>CA</td>\n",
       "      <td>201605.0</td>\n",
       "    </tr>\n",
       "    <tr>\n",
       "      <th>10</th>\n",
       "      <td>2015-12-22T00:00:00</td>\n",
       "      <td>CA</td>\n",
       "      <td>201511.0</td>\n",
       "    </tr>\n",
       "    <tr>\n",
       "      <th>11</th>\n",
       "      <td>2015-12-22T00:00:00</td>\n",
       "      <td>CA</td>\n",
       "      <td>201701.0</td>\n",
       "    </tr>\n",
       "    <tr>\n",
       "      <th>14</th>\n",
       "      <td>2015-12-27T00:00:00</td>\n",
       "      <td>CA</td>\n",
       "      <td>201605.0</td>\n",
       "    </tr>\n",
       "  </tbody>\n",
       "</table>\n",
       "</div>"
      ],
      "text/plain": [
       "                 tkt_dt state  plate_expr_dt\n",
       "4   2015-09-15T00:00:00    CA       200316.0\n",
       "6   2015-12-17T00:00:00    CA       201605.0\n",
       "10  2015-12-22T00:00:00    CA       201511.0\n",
       "11  2015-12-22T00:00:00    CA       201701.0\n",
       "14  2015-12-27T00:00:00    CA       201605.0"
      ]
     },
     "execution_count": 87,
     "metadata": {},
     "output_type": "execute_result"
    }
   ],
   "source": [
    "in_out_expr = tkt_data[['tkt_dt','state','plate_expr_dt']].dropna()\n",
    "in_out_expr.head()"
   ]
  },
  {
   "cell_type": "code",
   "execution_count": 88,
   "metadata": {},
   "outputs": [
    {
     "data": {
      "text/plain": [
       "state\n",
       "CA    3723823\n",
       "NV      24378\n",
       "TX      21694\n",
       "AZ      18950\n",
       "FL      18367\n",
       "dtype: int64"
      ]
     },
     "execution_count": 88,
     "metadata": {},
     "output_type": "execute_result"
    }
   ],
   "source": [
    "in_out_expr.groupby(['state']).size().sort_values(ascending=False).head()"
   ]
  },
  {
   "cell_type": "code",
   "execution_count": 89,
   "metadata": {},
   "outputs": [
    {
     "data": {
      "text/html": [
       "<div>\n",
       "<style scoped>\n",
       "    .dataframe tbody tr th:only-of-type {\n",
       "        vertical-align: middle;\n",
       "    }\n",
       "\n",
       "    .dataframe tbody tr th {\n",
       "        vertical-align: top;\n",
       "    }\n",
       "\n",
       "    .dataframe thead th {\n",
       "        text-align: right;\n",
       "    }\n",
       "</style>\n",
       "<table border=\"1\" class=\"dataframe\">\n",
       "  <thead>\n",
       "    <tr style=\"text-align: right;\">\n",
       "      <th></th>\n",
       "      <th>tkt_dt</th>\n",
       "      <th>state</th>\n",
       "      <th>plate_expr_dt</th>\n",
       "      <th>tkt_year</th>\n",
       "      <th>tkt_month</th>\n",
       "      <th>plate_year</th>\n",
       "      <th>plate_month</th>\n",
       "    </tr>\n",
       "  </thead>\n",
       "  <tbody>\n",
       "    <tr>\n",
       "      <th>4</th>\n",
       "      <td>2015-09-15T00:00:00</td>\n",
       "      <td>CA</td>\n",
       "      <td>200316.0</td>\n",
       "      <td>2015.0</td>\n",
       "      <td>9.0</td>\n",
       "      <td>2003.0</td>\n",
       "      <td>16.0</td>\n",
       "    </tr>\n",
       "    <tr>\n",
       "      <th>6</th>\n",
       "      <td>2015-12-17T00:00:00</td>\n",
       "      <td>CA</td>\n",
       "      <td>201605.0</td>\n",
       "      <td>2015.0</td>\n",
       "      <td>12.0</td>\n",
       "      <td>2016.0</td>\n",
       "      <td>5.0</td>\n",
       "    </tr>\n",
       "    <tr>\n",
       "      <th>10</th>\n",
       "      <td>2015-12-22T00:00:00</td>\n",
       "      <td>CA</td>\n",
       "      <td>201511.0</td>\n",
       "      <td>2015.0</td>\n",
       "      <td>12.0</td>\n",
       "      <td>2015.0</td>\n",
       "      <td>11.0</td>\n",
       "    </tr>\n",
       "    <tr>\n",
       "      <th>11</th>\n",
       "      <td>2015-12-22T00:00:00</td>\n",
       "      <td>CA</td>\n",
       "      <td>201701.0</td>\n",
       "      <td>2015.0</td>\n",
       "      <td>12.0</td>\n",
       "      <td>2017.0</td>\n",
       "      <td>1.0</td>\n",
       "    </tr>\n",
       "    <tr>\n",
       "      <th>14</th>\n",
       "      <td>2015-12-27T00:00:00</td>\n",
       "      <td>CA</td>\n",
       "      <td>201605.0</td>\n",
       "      <td>2015.0</td>\n",
       "      <td>12.0</td>\n",
       "      <td>2016.0</td>\n",
       "      <td>5.0</td>\n",
       "    </tr>\n",
       "  </tbody>\n",
       "</table>\n",
       "</div>"
      ],
      "text/plain": [
       "                 tkt_dt state  plate_expr_dt  tkt_year  tkt_month  plate_year  \\\n",
       "4   2015-09-15T00:00:00    CA       200316.0    2015.0        9.0      2003.0   \n",
       "6   2015-12-17T00:00:00    CA       201605.0    2015.0       12.0      2016.0   \n",
       "10  2015-12-22T00:00:00    CA       201511.0    2015.0       12.0      2015.0   \n",
       "11  2015-12-22T00:00:00    CA       201701.0    2015.0       12.0      2017.0   \n",
       "14  2015-12-27T00:00:00    CA       201605.0    2015.0       12.0      2016.0   \n",
       "\n",
       "    plate_month  \n",
       "4          16.0  \n",
       "6           5.0  \n",
       "10         11.0  \n",
       "11          1.0  \n",
       "14          5.0  "
      ]
     },
     "execution_count": 89,
     "metadata": {},
     "output_type": "execute_result"
    }
   ],
   "source": [
    "in_out_expr['tkt_year'] = in_out_expr.tkt_dt.str.slice(0,4).astype(float)\n",
    "in_out_expr['tkt_month'] = in_out_expr.tkt_dt.str.slice(5,7).astype(float)\n",
    "in_out_expr['plate_year'] = (in_out_expr.plate_expr_dt - (in_out_expr.plate_expr_dt % 100)) / 100\n",
    "in_out_expr['plate_month'] = in_out_expr.plate_expr_dt % 100\n",
    "in_out_expr.head()"
   ]
  },
  {
   "cell_type": "code",
   "execution_count": 90,
   "metadata": {},
   "outputs": [
    {
     "data": {
      "text/plain": [
       "state\n",
       "CA    3723823\n",
       "NV      24378\n",
       "TX      21694\n",
       "AZ      18950\n",
       "FL      18367\n",
       "dtype: int64"
      ]
     },
     "execution_count": 90,
     "metadata": {},
     "output_type": "execute_result"
    }
   ],
   "source": [
    "in_out_expr.groupby(['state']).size().sort_values(ascending=False).head()"
   ]
  },
  {
   "cell_type": "code",
   "execution_count": 91,
   "metadata": {},
   "outputs": [
    {
     "data": {
      "text/plain": [
       "plate_month\n",
       "6.0     352190\n",
       "9.0     347028\n",
       "8.0     347004\n",
       "3.0     344247\n",
       "5.0     340262\n",
       "7.0     336193\n",
       "4.0     333975\n",
       "1.0     330400\n",
       "2.0     315740\n",
       "12.0    309022\n",
       "11.0    303308\n",
       "10.0    297733\n",
       "17.0       826\n",
       "18.0       775\n",
       "16.0       671\n",
       "0.0        607\n",
       "15.0       586\n",
       "19.0       288\n",
       "14.0       109\n",
       "13.0        22\n",
       "20.0         4\n",
       "98.0         2\n",
       "60.0         1\n",
       "21.0         1\n",
       "24.0         1\n",
       "30.0         1\n",
       "36.0         1\n",
       "dtype: int64"
      ]
     },
     "execution_count": 91,
     "metadata": {},
     "output_type": "execute_result"
    }
   ],
   "source": [
    "in_out_expr.groupby(['plate_month']).size().sort_values(ascending=False)"
   ]
  },
  {
   "cell_type": "markdown",
   "metadata": {},
   "source": [
    "#### Plate expiration months greater outside of 1-12 occur rarely enough to be considered negligible. Those where the year is not enough to determine if the plate was expired will be dropped."
   ]
  },
  {
   "cell_type": "code",
   "execution_count": 110,
   "metadata": {},
   "outputs": [
    {
     "name": "stdout",
     "output_type": "stream",
     "text": [
      "3960575\n",
      "3960575\n"
     ]
    },
    {
     "data": {
      "text/html": [
       "<div>\n",
       "<style scoped>\n",
       "    .dataframe tbody tr th:only-of-type {\n",
       "        vertical-align: middle;\n",
       "    }\n",
       "\n",
       "    .dataframe tbody tr th {\n",
       "        vertical-align: top;\n",
       "    }\n",
       "\n",
       "    .dataframe thead th {\n",
       "        text-align: right;\n",
       "    }\n",
       "</style>\n",
       "<table border=\"1\" class=\"dataframe\">\n",
       "  <thead>\n",
       "    <tr style=\"text-align: right;\">\n",
       "      <th></th>\n",
       "      <th>tkt_dt</th>\n",
       "      <th>state</th>\n",
       "      <th>plate_expr_dt</th>\n",
       "      <th>tkt_year</th>\n",
       "      <th>tkt_month</th>\n",
       "      <th>plate_year</th>\n",
       "      <th>plate_month</th>\n",
       "      <th>expired</th>\n",
       "      <th>in_state</th>\n",
       "    </tr>\n",
       "  </thead>\n",
       "  <tbody>\n",
       "    <tr>\n",
       "      <th>4</th>\n",
       "      <td>2015-09-15T00:00:00</td>\n",
       "      <td>CA</td>\n",
       "      <td>200316.0</td>\n",
       "      <td>2015.0</td>\n",
       "      <td>9.0</td>\n",
       "      <td>2003.0</td>\n",
       "      <td>16.0</td>\n",
       "      <td>True</td>\n",
       "      <td>True</td>\n",
       "    </tr>\n",
       "    <tr>\n",
       "      <th>6</th>\n",
       "      <td>2015-12-17T00:00:00</td>\n",
       "      <td>CA</td>\n",
       "      <td>201605.0</td>\n",
       "      <td>2015.0</td>\n",
       "      <td>12.0</td>\n",
       "      <td>2016.0</td>\n",
       "      <td>5.0</td>\n",
       "      <td>False</td>\n",
       "      <td>True</td>\n",
       "    </tr>\n",
       "    <tr>\n",
       "      <th>10</th>\n",
       "      <td>2015-12-22T00:00:00</td>\n",
       "      <td>CA</td>\n",
       "      <td>201511.0</td>\n",
       "      <td>2015.0</td>\n",
       "      <td>12.0</td>\n",
       "      <td>2015.0</td>\n",
       "      <td>11.0</td>\n",
       "      <td>True</td>\n",
       "      <td>True</td>\n",
       "    </tr>\n",
       "    <tr>\n",
       "      <th>11</th>\n",
       "      <td>2015-12-22T00:00:00</td>\n",
       "      <td>CA</td>\n",
       "      <td>201701.0</td>\n",
       "      <td>2015.0</td>\n",
       "      <td>12.0</td>\n",
       "      <td>2017.0</td>\n",
       "      <td>1.0</td>\n",
       "      <td>False</td>\n",
       "      <td>True</td>\n",
       "    </tr>\n",
       "    <tr>\n",
       "      <th>14</th>\n",
       "      <td>2015-12-27T00:00:00</td>\n",
       "      <td>CA</td>\n",
       "      <td>201605.0</td>\n",
       "      <td>2015.0</td>\n",
       "      <td>12.0</td>\n",
       "      <td>2016.0</td>\n",
       "      <td>5.0</td>\n",
       "      <td>False</td>\n",
       "      <td>True</td>\n",
       "    </tr>\n",
       "    <tr>\n",
       "      <th>19</th>\n",
       "      <td>2015-12-22T00:00:00</td>\n",
       "      <td>CA</td>\n",
       "      <td>201606.0</td>\n",
       "      <td>2015.0</td>\n",
       "      <td>12.0</td>\n",
       "      <td>2016.0</td>\n",
       "      <td>6.0</td>\n",
       "      <td>False</td>\n",
       "      <td>True</td>\n",
       "    </tr>\n",
       "    <tr>\n",
       "      <th>21</th>\n",
       "      <td>2015-12-18T00:00:00</td>\n",
       "      <td>CA</td>\n",
       "      <td>201509.0</td>\n",
       "      <td>2015.0</td>\n",
       "      <td>12.0</td>\n",
       "      <td>2015.0</td>\n",
       "      <td>9.0</td>\n",
       "      <td>True</td>\n",
       "      <td>True</td>\n",
       "    </tr>\n",
       "    <tr>\n",
       "      <th>22</th>\n",
       "      <td>2015-12-18T00:00:00</td>\n",
       "      <td>CA</td>\n",
       "      <td>201511.0</td>\n",
       "      <td>2015.0</td>\n",
       "      <td>12.0</td>\n",
       "      <td>2015.0</td>\n",
       "      <td>11.0</td>\n",
       "      <td>True</td>\n",
       "      <td>True</td>\n",
       "    </tr>\n",
       "    <tr>\n",
       "      <th>25</th>\n",
       "      <td>2015-12-22T00:00:00</td>\n",
       "      <td>CA</td>\n",
       "      <td>201610.0</td>\n",
       "      <td>2015.0</td>\n",
       "      <td>12.0</td>\n",
       "      <td>2016.0</td>\n",
       "      <td>10.0</td>\n",
       "      <td>False</td>\n",
       "      <td>True</td>\n",
       "    </tr>\n",
       "    <tr>\n",
       "      <th>29</th>\n",
       "      <td>2015-12-22T00:00:00</td>\n",
       "      <td>CA</td>\n",
       "      <td>201601.0</td>\n",
       "      <td>2015.0</td>\n",
       "      <td>12.0</td>\n",
       "      <td>2016.0</td>\n",
       "      <td>1.0</td>\n",
       "      <td>False</td>\n",
       "      <td>True</td>\n",
       "    </tr>\n",
       "  </tbody>\n",
       "</table>\n",
       "</div>"
      ],
      "text/plain": [
       "                 tkt_dt state  plate_expr_dt  tkt_year  tkt_month  plate_year  \\\n",
       "4   2015-09-15T00:00:00    CA       200316.0    2015.0        9.0      2003.0   \n",
       "6   2015-12-17T00:00:00    CA       201605.0    2015.0       12.0      2016.0   \n",
       "10  2015-12-22T00:00:00    CA       201511.0    2015.0       12.0      2015.0   \n",
       "11  2015-12-22T00:00:00    CA       201701.0    2015.0       12.0      2017.0   \n",
       "14  2015-12-27T00:00:00    CA       201605.0    2015.0       12.0      2016.0   \n",
       "19  2015-12-22T00:00:00    CA       201606.0    2015.0       12.0      2016.0   \n",
       "21  2015-12-18T00:00:00    CA       201509.0    2015.0       12.0      2015.0   \n",
       "22  2015-12-18T00:00:00    CA       201511.0    2015.0       12.0      2015.0   \n",
       "25  2015-12-22T00:00:00    CA       201610.0    2015.0       12.0      2016.0   \n",
       "29  2015-12-22T00:00:00    CA       201601.0    2015.0       12.0      2016.0   \n",
       "\n",
       "    plate_month  expired  in_state  \n",
       "4          16.0     True      True  \n",
       "6           5.0    False      True  \n",
       "10         11.0     True      True  \n",
       "11          1.0    False      True  \n",
       "14          5.0    False      True  \n",
       "19          6.0    False      True  \n",
       "21          9.0     True      True  \n",
       "22         11.0     True      True  \n",
       "25         10.0    False      True  \n",
       "29          1.0    False      True  "
      ]
     },
     "execution_count": 110,
     "metadata": {},
     "output_type": "execute_result"
    }
   ],
   "source": [
    "# in_out_expr_bkup = in_out_expr.copy\n",
    "in_out_expr['expired'] = False\n",
    "\n",
    "in_out_expr.loc[in_out_expr['plate_year'] < in_out_expr['tkt_year'], 'expired'] = True\n",
    "print(len(in_out_expr))\n",
    "in_out_expr.drop(in_out_expr[((in_out_expr['plate_month'] < 1) | (in_out_expr['plate_month'] > 12)) \n",
    "            & (in_out_expr['plate_year'] == in_out_expr['tkt_year'])].index, inplace=True)\n",
    "print(len(in_out_expr))\n",
    "\n",
    "in_out_expr.loc[(in_out_expr['plate_year'] == in_out_expr['tkt_year'])\n",
    "                & (in_out_expr['plate_month'] < in_out_expr['tkt_month']), 'expired'] = True\n",
    "\n",
    "in_out_expr.head(10)"
   ]
  },
  {
   "cell_type": "code",
   "execution_count": 111,
   "metadata": {},
   "outputs": [
    {
     "data": {
      "text/html": [
       "<div>\n",
       "<style scoped>\n",
       "    .dataframe tbody tr th:only-of-type {\n",
       "        vertical-align: middle;\n",
       "    }\n",
       "\n",
       "    .dataframe tbody tr th {\n",
       "        vertical-align: top;\n",
       "    }\n",
       "\n",
       "    .dataframe thead th {\n",
       "        text-align: right;\n",
       "    }\n",
       "</style>\n",
       "<table border=\"1\" class=\"dataframe\">\n",
       "  <thead>\n",
       "    <tr style=\"text-align: right;\">\n",
       "      <th></th>\n",
       "      <th>tkt_dt</th>\n",
       "      <th>state</th>\n",
       "      <th>plate_expr_dt</th>\n",
       "      <th>tkt_year</th>\n",
       "      <th>tkt_month</th>\n",
       "      <th>plate_year</th>\n",
       "      <th>plate_month</th>\n",
       "      <th>expired</th>\n",
       "      <th>in_state</th>\n",
       "    </tr>\n",
       "  </thead>\n",
       "  <tbody>\n",
       "    <tr>\n",
       "      <th>4</th>\n",
       "      <td>2015-09-15T00:00:00</td>\n",
       "      <td>CA</td>\n",
       "      <td>200316.0</td>\n",
       "      <td>2015.0</td>\n",
       "      <td>9.0</td>\n",
       "      <td>2003.0</td>\n",
       "      <td>16.0</td>\n",
       "      <td>True</td>\n",
       "      <td>True</td>\n",
       "    </tr>\n",
       "    <tr>\n",
       "      <th>6</th>\n",
       "      <td>2015-12-17T00:00:00</td>\n",
       "      <td>CA</td>\n",
       "      <td>201605.0</td>\n",
       "      <td>2015.0</td>\n",
       "      <td>12.0</td>\n",
       "      <td>2016.0</td>\n",
       "      <td>5.0</td>\n",
       "      <td>False</td>\n",
       "      <td>True</td>\n",
       "    </tr>\n",
       "    <tr>\n",
       "      <th>10</th>\n",
       "      <td>2015-12-22T00:00:00</td>\n",
       "      <td>CA</td>\n",
       "      <td>201511.0</td>\n",
       "      <td>2015.0</td>\n",
       "      <td>12.0</td>\n",
       "      <td>2015.0</td>\n",
       "      <td>11.0</td>\n",
       "      <td>True</td>\n",
       "      <td>True</td>\n",
       "    </tr>\n",
       "    <tr>\n",
       "      <th>11</th>\n",
       "      <td>2015-12-22T00:00:00</td>\n",
       "      <td>CA</td>\n",
       "      <td>201701.0</td>\n",
       "      <td>2015.0</td>\n",
       "      <td>12.0</td>\n",
       "      <td>2017.0</td>\n",
       "      <td>1.0</td>\n",
       "      <td>False</td>\n",
       "      <td>True</td>\n",
       "    </tr>\n",
       "    <tr>\n",
       "      <th>14</th>\n",
       "      <td>2015-12-27T00:00:00</td>\n",
       "      <td>CA</td>\n",
       "      <td>201605.0</td>\n",
       "      <td>2015.0</td>\n",
       "      <td>12.0</td>\n",
       "      <td>2016.0</td>\n",
       "      <td>5.0</td>\n",
       "      <td>False</td>\n",
       "      <td>True</td>\n",
       "    </tr>\n",
       "  </tbody>\n",
       "</table>\n",
       "</div>"
      ],
      "text/plain": [
       "                 tkt_dt state  plate_expr_dt  tkt_year  tkt_month  plate_year  \\\n",
       "4   2015-09-15T00:00:00    CA       200316.0    2015.0        9.0      2003.0   \n",
       "6   2015-12-17T00:00:00    CA       201605.0    2015.0       12.0      2016.0   \n",
       "10  2015-12-22T00:00:00    CA       201511.0    2015.0       12.0      2015.0   \n",
       "11  2015-12-22T00:00:00    CA       201701.0    2015.0       12.0      2017.0   \n",
       "14  2015-12-27T00:00:00    CA       201605.0    2015.0       12.0      2016.0   \n",
       "\n",
       "    plate_month  expired  in_state  \n",
       "4          16.0     True      True  \n",
       "6           5.0    False      True  \n",
       "10         11.0     True      True  \n",
       "11          1.0    False      True  \n",
       "14          5.0    False      True  "
      ]
     },
     "execution_count": 111,
     "metadata": {},
     "output_type": "execute_result"
    }
   ],
   "source": [
    "in_out_expr['in_state'] = in_out_expr['state']=='CA'\n",
    "in_out_expr.head()"
   ]
  },
  {
   "cell_type": "code",
   "execution_count": 109,
   "metadata": {},
   "outputs": [
    {
     "name": "stdout",
     "output_type": "stream",
     "text": [
      "Probability out of state plates are expired: 0.2434\n",
      "Probability in state plates are expired: 0.233\n"
     ]
    }
   ],
   "source": [
    "print('Probability out of state plates are expired: ' + \n",
    "      str(round(float(len(in_out_expr[(in_out_expr['expired'] == 'YES') \n",
    "                                      & (in_out_expr['state'] != 'CA')]))/ \\\n",
    "len(in_out_expr[in_out_expr['state'] != 'CA']),4)))\n",
    "\n",
    "print('Probability in state plates are expired: ' + \n",
    "      str(round(float(len(in_out_expr[(in_out_expr['expired'] == 'YES') \n",
    "                                      & (in_out_expr['state'] == 'CA')]))/ \\\n",
    "len(in_out_expr[in_out_expr['state'] == 'CA']),4)))"
   ]
  },
  {
   "cell_type": "code",
   "execution_count": 118,
   "metadata": {},
   "outputs": [
    {
     "name": "stdout",
     "output_type": "stream",
     "text": [
      "2.239748891899383e-31\n"
     ]
    }
   ],
   "source": [
    "from scipy.stats import ttest_ind\n",
    "\n",
    "stat, p = ttest_ind(in_out_expr.loc[in_out_expr['state']=='CA', 'expired'],\n",
    "                    in_out_expr.loc[in_out_expr['state']!='CA', 'expired'])\n",
    "\n",
    "print(p)"
   ]
  },
  {
   "cell_type": "markdown",
   "metadata": {},
   "source": [
    "#### The difference between the two distributions is significant, so my final answer is \"Yes, out of state plates are more likely to be expired than in state plates when a ticket is given.\""
   ]
  },
  {
   "cell_type": "code",
   "execution_count": null,
   "metadata": {},
   "outputs": [],
   "source": []
  }
 ],
 "metadata": {
  "kernelspec": {
   "display_name": "Python 3",
   "language": "python",
   "name": "python3"
  },
  "language_info": {
   "codemirror_mode": {
    "name": "ipython",
    "version": 3
   },
   "file_extension": ".py",
   "mimetype": "text/x-python",
   "name": "python",
   "nbconvert_exporter": "python",
   "pygments_lexer": "ipython3",
   "version": "3.7.3"
  }
 },
 "nbformat": 4,
 "nbformat_minor": 2
}
